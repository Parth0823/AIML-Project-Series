{
 "cells": [
  {
   "cell_type": "code",
   "execution_count": 103,
   "metadata": {},
   "outputs": [],
   "source": [
    "# Importing Nescessary libraries\n",
    "import random\n",
    "import pickle\n",
    "import numpy as np\n",
    "import json\n",
    "import tensorflow as tf\n",
    "from sklearn.model_selection import train_test_split, GridSearchCV\n",
    "from sklearn.feature_extraction.text import TfidfVectorizer\n",
    "from sklearn.linear_model import LogisticRegression\n",
    "from sklearn.naive_bayes import MultinomialNB\n",
    "from sklearn.tree import DecisionTreeClassifier\n",
    "from sklearn.ensemble import RandomForestClassifier\n",
    "from sklearn.svm import LinearSVC\n",
    "from sklearn.metrics import accuracy_score\n",
    "\n",
    "import nltk\n",
    "from nltk.stem import WordNetLemmatizer\n",
    "import warnings\n",
    "warnings.filterwarnings('ignore')"
   ]
  },
  {
   "cell_type": "code",
   "execution_count": 104,
   "metadata": {},
   "outputs": [],
   "source": [
    "# Loading Intents and creating Lemmatizer object\n",
    "lemmatizer = WordNetLemmatizer()\n",
    "\n",
    "# Loading JSON file\n",
    "intents = json.loads(open('intents.json').read())\n",
    "\n",
    "text_data = []\n",
    "labels = []\n",
    "stopwords = set(nltk.corpus.stopwords.words('english'))\n",
    "ignore_letters = ['?', '!', '.', ',','']"
   ]
  },
  {
   "cell_type": "code",
   "execution_count": 129,
   "metadata": {},
   "outputs": [],
   "source": [
    "# Collection of all words by tokenizing the patterns and lemmatizing them\n",
    "\n",
    "\n",
    "for intent in intents['intents']:\n",
    "    for example in intent['patterns']:\n",
    "        tokens = nltk.word_tokenize(example.lower())\n",
    "        filtered_tokens = [lemmatizer.lemmatize(token) for token in tokens if token not in stopwords and token not in ignore_letters]\n",
    "        if filtered_tokens:\n",
    "            # Storing the token list of every tag in text_data in form of tuple\n",
    "            text_data.append(' '.join(filtered_tokens))\n",
    "            # Storing all the tags in labels\n",
    "            labels.append(intent['tag'])"
   ]
  },
  {
   "cell_type": "code",
   "execution_count": 106,
   "metadata": {},
   "outputs": [
    {
     "name": "stdout",
     "output_type": "stream",
     "text": [
      "23\n",
      "23\n"
     ]
    }
   ],
   "source": [
    "print(len(text_data))\n",
    "print(len(labels))\n",
    "\n",
    "# Creating pickle files\n",
    "pickle.dump(text_data, open('words.pkl', 'wb'))\n",
    "pickle.dump(labels, open('labels.pkl', 'wb'))  "
   ]
  },
  {
   "cell_type": "code",
   "execution_count": 107,
   "metadata": {},
   "outputs": [],
   "source": [
    "# Now we are basically creating vectors of the tags using Tfidf vectorizer\n",
    "vectorizer = TfidfVectorizer()\n",
    "X = vectorizer.fit_transform(text_data)\n",
    "y = labels"
   ]
  },
  {
   "cell_type": "code",
   "execution_count": null,
   "metadata": {},
   "outputs": [],
   "source": [
    "vectorizer.vocabulary_"
   ]
  },
  {
   "cell_type": "code",
   "execution_count": 109,
   "metadata": {},
   "outputs": [],
   "source": [
    "# Using grid search CV to find best model among these\n",
    "def find_best_model(X, y, test_size=0.2):\n",
    "    X_train, X_test, y_train, y_test = train_test_split(X, y, test_size=test_size, random_state=100)\n",
    "\n",
    "\n",
    "    models = [\n",
    "        ('Logistic Regression', LogisticRegression(), {\n",
    "            'penalty': ['l2'],\n",
    "            'C': [0.1, 1.0, 10.0],\n",
    "            'solver': ['liblinear'],\n",
    "            'max_iter': [100, 1000, 10000]\n",
    "        }),\n",
    "        ('Multinomial Naive Bayes', MultinomialNB(), {'alpha': [0.1, 0.5, 1.0]}),\n",
    "        ('Linear SVC', LinearSVC(), {\n",
    "            'penalty': ['l2'],\n",
    "            'loss': ['hinge', 'squared_hinge'],\n",
    "            'C': [0.1, 1, 10],\n",
    "            'max_iter': [100, 1000, 10000]\n",
    "        }),\n",
    "        ('Decision Tree', DecisionTreeClassifier(), {\n",
    "            'max_depth': [5, 10, 20, None],\n",
    "            'min_samples_split': [2, 5, 10],\n",
    "            'min_samples_leaf': [1, 2, 4],\n",
    "            'criterion': ['gini', 'entropy']\n",
    "        }),\n",
    "        ('Random Forest', RandomForestClassifier(), {\n",
    "            'n_estimators': [100, 200, 300],\n",
    "            'max_depth': [10, 20, None],\n",
    "            'min_samples_split': [2, 5, 10],\n",
    "            'min_samples_leaf': [1, 2, 4]\n",
    "        })\n",
    "    ]\n",
    "    best_model_info = None\n",
    "    best_score = -float('inf')\n",
    "    for name, model, param_grid in models:\n",
    "        grid = GridSearchCV(model, param_grid, cv=3, n_jobs=-1)\n",
    "        grid.fit(X_train, y_train)\n",
    "        y_pred = grid.predict(X_test)\n",
    "        score = accuracy_score(y_test, y_pred)\n",
    "        print(f'{name}: {score:.4f} (best parameters: {grid.best_params_})')\n",
    "        if score > best_score:\n",
    "            best_score = score\n",
    "            best_model_info = (name, grid.best_estimator_)\n",
    "\n",
    "    best_model_name, best_model = best_model_info\n",
    "    print(f'\\nBest model: {best_model_name}')\n",
    "    \n",
    "    # Fit the best model to the full dataset\n",
    "    best_model.fit(X, y)\n",
    "    return best_model[1]\n",
    "    "
   ]
  },
  {
   "cell_type": "code",
   "execution_count": 110,
   "metadata": {},
   "outputs": [
    {
     "name": "stdout",
     "output_type": "stream",
     "text": [
      "Logistic Regression: 0.2000 (best parameters: {'C': 10.0, 'max_iter': 100, 'penalty': 'l2', 'solver': 'liblinear'})\n",
      "Multinomial Naive Bayes: 0.2000 (best parameters: {'alpha': 0.1})\n",
      "Linear SVC: 0.2000 (best parameters: {'C': 1, 'loss': 'hinge', 'max_iter': 100, 'penalty': 'l2'})\n",
      "Decision Tree: 0.2000 (best parameters: {'criterion': 'gini', 'max_depth': 20, 'min_samples_leaf': 1, 'min_samples_split': 2})\n",
      "Random Forest: 0.2000 (best parameters: {'max_depth': 10, 'min_samples_leaf': 1, 'min_samples_split': 2, 'n_estimators': 300})\n",
      "\n",
      "Best model: Logistic Regression\n"
     ]
    }
   ],
   "source": [
    "best_model = find_best_model(X, y)"
   ]
  },
  {
   "cell_type": "code",
   "execution_count": 123,
   "metadata": {},
   "outputs": [],
   "source": [
    "# Cleaning user input by tokenizing and lemmatizing\n",
    "def clean_sentence(input):\n",
    "    input=nltk.word_tokenize(input.lower())\n",
    "    cleaned=[lemmatizer.lemmatize(w) for w in input if w not in ignore_letters]\n",
    "    return [' '.join(cleaned)]\n"
   ]
  },
  {
   "cell_type": "code",
   "execution_count": 127,
   "metadata": {},
   "outputs": [],
   "source": [
    "# Using the best model to predict\n",
    "def predict_output(input):\n",
    "    x=clean_sentence(input)\n",
    "    predicted_intent=best_model.predict(vectorizer.transform(x))\n",
    "    for intent in intents['intents']:\n",
    "        if intent['tag'] == predicted_intent:\n",
    "            response = random.choice(intent['responses'])\n",
    "            break\n",
    "            \n",
    "    return response"
   ]
  },
  {
   "cell_type": "code",
   "execution_count": 128,
   "metadata": {},
   "outputs": [
    {
     "name": "stdout",
     "output_type": "stream",
     "text": [
      "Hello! I am a chatbot. How can I help you today? Type \"quit\" to exit.\n",
      "The Big Bang theory is the prevailing cosmological model for the universe. It states that the universe began with a very hot, dense state and has been expanding and cooling ever since.\n",
      "I'm in jouful mood today!\n",
      "Hello\n"
     ]
    }
   ],
   "source": [
    "print('Hello! I am a chatbot. How can I help you today? Type \"quit\" to exit.')\n",
    "while True:\n",
    "    user_input = input(\"\")\n",
    "    if user_input.lower() == 'quit':\n",
    "        print(\"Comeback again :)\")\n",
    "        break\n",
    "    response = predict_output(user_input)\n",
    "    print(response)"
   ]
  },
  {
   "cell_type": "code",
   "execution_count": 130,
   "metadata": {},
   "outputs": [],
   "source": [
    "import os\n",
    "\n",
    "\n",
    "if not os.path.exists('model'):\n",
    "    os.makedirs('model')\n",
    "\n",
    "# Save the trained model\n",
    "with open('model/chatbot_model.pkl', 'wb') as f:\n",
    "    pickle.dump(best_model, f)\n",
    "\n",
    "# Save the vectorizer\n",
    "with open('model/vectorizer.pkl', 'wb') as f:\n",
    "    pickle.dump(vectorizer, f)\n"
   ]
  },
  {
   "cell_type": "code",
   "execution_count": null,
   "metadata": {},
   "outputs": [],
   "source": []
  }
 ],
 "metadata": {
  "kernelspec": {
   "display_name": "chatbot",
   "language": "python",
   "name": "python3"
  },
  "language_info": {
   "codemirror_mode": {
    "name": "ipython",
    "version": 3
   },
   "file_extension": ".py",
   "mimetype": "text/x-python",
   "name": "python",
   "nbconvert_exporter": "python",
   "pygments_lexer": "ipython3",
   "version": "3.11.4"
  }
 },
 "nbformat": 4,
 "nbformat_minor": 2
}
